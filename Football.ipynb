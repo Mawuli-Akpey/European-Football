{
 "cells": [
  {
   "cell_type": "markdown",
   "id": "ea5c044b-e1e0-41ab-bdfa-02b3c6f07c8c",
   "metadata": {
    "tags": []
   },
   "source": [
    "# Exploratory Data Analysis in European Soccer Leagues with SQLite3\n",
    "\n",
    "## The objective of this project is to provide some random insights using SQL queries and making good visualizations with data\n",
    "\n",
    "This database contains 8 different tables with the following features\n",
    "\n",
    " - +25,000 matches\n",
    " - +10,000 players\n",
    " - 11 European Countries with their lead championship\n",
    " - Seasons 2008 to 2016 \n",
    " - Players and Teams' attributes* sourced from EA Sports' FIFA video game series, including the weekly updates\n",
    " - Team line up with squad formation (X, Y coordinates)\n",
    " - Betting odds from up to 10 providers\n",
    " - Detailed match events (goal types, possession, corner, cross, fouls, cards etc…) for +10,000 matches"
   ]
  },
  {
   "cell_type": "code",
   "execution_count": 1,
   "id": "90759aea",
   "metadata": {},
   "outputs": [],
   "source": [
    "#Imports \n",
    "\n",
    "import numpy as np\n",
    "import pandas as pd \n",
    "import sqlite3\n",
    "import matplotlib.pyplot as plt\n",
    "import seaborn as sns"
   ]
  },
  {
   "cell_type": "code",
   "execution_count": 2,
   "id": "bc0f5f72",
   "metadata": {},
   "outputs": [],
   "source": [
    "#create a path to the db\n",
    "path = \"database.sqlite\"\n",
    "\n",
    "connection = sqlite3.connect(path)\n",
    "\n",
    "query = lambda x: pd.read_sql_query(x, connection)"
   ]
  },
  {
   "cell_type": "markdown",
   "id": "5f3ce368-5260-408e-bd4c-dff5f3b71454",
   "metadata": {},
   "source": [
    "## First, what tables are in this dataset? What Leagues? What Seasons? Let's take a look."
   ]
  },
  {
   "cell_type": "code",
   "execution_count": 3,
   "id": "3ae3997a",
   "metadata": {},
   "outputs": [
    {
     "data": {
      "text/html": [
       "<div>\n",
       "<style scoped>\n",
       "    .dataframe tbody tr th:only-of-type {\n",
       "        vertical-align: middle;\n",
       "    }\n",
       "\n",
       "    .dataframe tbody tr th {\n",
       "        vertical-align: top;\n",
       "    }\n",
       "\n",
       "    .dataframe thead th {\n",
       "        text-align: right;\n",
       "    }\n",
       "</style>\n",
       "<table border=\"1\" class=\"dataframe\">\n",
       "  <thead>\n",
       "    <tr style=\"text-align: right;\">\n",
       "      <th></th>\n",
       "      <th>type</th>\n",
       "      <th>name</th>\n",
       "      <th>tbl_name</th>\n",
       "      <th>rootpage</th>\n",
       "      <th>sql</th>\n",
       "    </tr>\n",
       "  </thead>\n",
       "  <tbody>\n",
       "    <tr>\n",
       "      <th>0</th>\n",
       "      <td>table</td>\n",
       "      <td>sqlite_sequence</td>\n",
       "      <td>sqlite_sequence</td>\n",
       "      <td>4</td>\n",
       "      <td>CREATE TABLE sqlite_sequence(name,seq)</td>\n",
       "    </tr>\n",
       "    <tr>\n",
       "      <th>1</th>\n",
       "      <td>table</td>\n",
       "      <td>Player_Attributes</td>\n",
       "      <td>Player_Attributes</td>\n",
       "      <td>11</td>\n",
       "      <td>CREATE TABLE \"Player_Attributes\" (\\n\\t`id`\\tIN...</td>\n",
       "    </tr>\n",
       "    <tr>\n",
       "      <th>2</th>\n",
       "      <td>table</td>\n",
       "      <td>Player</td>\n",
       "      <td>Player</td>\n",
       "      <td>14</td>\n",
       "      <td>CREATE TABLE `Player` (\\n\\t`id`\\tINTEGER PRIMA...</td>\n",
       "    </tr>\n",
       "    <tr>\n",
       "      <th>3</th>\n",
       "      <td>table</td>\n",
       "      <td>Match</td>\n",
       "      <td>Match</td>\n",
       "      <td>18</td>\n",
       "      <td>CREATE TABLE `Match` (\\n\\t`id`\\tINTEGER PRIMAR...</td>\n",
       "    </tr>\n",
       "    <tr>\n",
       "      <th>4</th>\n",
       "      <td>table</td>\n",
       "      <td>League</td>\n",
       "      <td>League</td>\n",
       "      <td>24</td>\n",
       "      <td>CREATE TABLE `League` (\\n\\t`id`\\tINTEGER PRIMA...</td>\n",
       "    </tr>\n",
       "    <tr>\n",
       "      <th>5</th>\n",
       "      <td>table</td>\n",
       "      <td>Country</td>\n",
       "      <td>Country</td>\n",
       "      <td>26</td>\n",
       "      <td>CREATE TABLE `Country` (\\n\\t`id`\\tINTEGER PRIM...</td>\n",
       "    </tr>\n",
       "    <tr>\n",
       "      <th>6</th>\n",
       "      <td>table</td>\n",
       "      <td>Team</td>\n",
       "      <td>Team</td>\n",
       "      <td>29</td>\n",
       "      <td>CREATE TABLE \"Team\" (\\n\\t`id`\\tINTEGER PRIMARY...</td>\n",
       "    </tr>\n",
       "    <tr>\n",
       "      <th>7</th>\n",
       "      <td>table</td>\n",
       "      <td>Team_Attributes</td>\n",
       "      <td>Team_Attributes</td>\n",
       "      <td>2</td>\n",
       "      <td>CREATE TABLE `Team_Attributes` (\\n\\t`id`\\tINTE...</td>\n",
       "    </tr>\n",
       "  </tbody>\n",
       "</table>\n",
       "</div>"
      ],
      "text/plain": [
       "    type               name           tbl_name  rootpage  \\\n",
       "0  table    sqlite_sequence    sqlite_sequence         4   \n",
       "1  table  Player_Attributes  Player_Attributes        11   \n",
       "2  table             Player             Player        14   \n",
       "3  table              Match              Match        18   \n",
       "4  table             League             League        24   \n",
       "5  table            Country            Country        26   \n",
       "6  table               Team               Team        29   \n",
       "7  table    Team_Attributes    Team_Attributes         2   \n",
       "\n",
       "                                                 sql  \n",
       "0             CREATE TABLE sqlite_sequence(name,seq)  \n",
       "1  CREATE TABLE \"Player_Attributes\" (\\n\\t`id`\\tIN...  \n",
       "2  CREATE TABLE `Player` (\\n\\t`id`\\tINTEGER PRIMA...  \n",
       "3  CREATE TABLE `Match` (\\n\\t`id`\\tINTEGER PRIMAR...  \n",
       "4  CREATE TABLE `League` (\\n\\t`id`\\tINTEGER PRIMA...  \n",
       "5  CREATE TABLE `Country` (\\n\\t`id`\\tINTEGER PRIM...  \n",
       "6  CREATE TABLE \"Team\" (\\n\\t`id`\\tINTEGER PRIMARY...  \n",
       "7  CREATE TABLE `Team_Attributes` (\\n\\t`id`\\tINTE...  "
      ]
     },
     "execution_count": 3,
     "metadata": {},
     "output_type": "execute_result"
    }
   ],
   "source": [
    "#Pull all tables from the schema\n",
    "query('''\n",
    "SELECT * FROM sqlite_schema WHERE type= 'table' \n",
    "''')"
   ]
  },
  {
   "cell_type": "code",
   "execution_count": 4,
   "id": "5e5b9b89",
   "metadata": {},
   "outputs": [
    {
     "data": {
      "text/html": [
       "<div>\n",
       "<style scoped>\n",
       "    .dataframe tbody tr th:only-of-type {\n",
       "        vertical-align: middle;\n",
       "    }\n",
       "\n",
       "    .dataframe tbody tr th {\n",
       "        vertical-align: top;\n",
       "    }\n",
       "\n",
       "    .dataframe thead th {\n",
       "        text-align: right;\n",
       "    }\n",
       "</style>\n",
       "<table border=\"1\" class=\"dataframe\">\n",
       "  <thead>\n",
       "    <tr style=\"text-align: right;\">\n",
       "      <th></th>\n",
       "      <th>id</th>\n",
       "      <th>country_id</th>\n",
       "      <th>name</th>\n",
       "    </tr>\n",
       "  </thead>\n",
       "  <tbody>\n",
       "    <tr>\n",
       "      <th>0</th>\n",
       "      <td>1</td>\n",
       "      <td>1</td>\n",
       "      <td>Belgium Jupiler League</td>\n",
       "    </tr>\n",
       "    <tr>\n",
       "      <th>1</th>\n",
       "      <td>1729</td>\n",
       "      <td>1729</td>\n",
       "      <td>England Premier League</td>\n",
       "    </tr>\n",
       "    <tr>\n",
       "      <th>2</th>\n",
       "      <td>4769</td>\n",
       "      <td>4769</td>\n",
       "      <td>France Ligue 1</td>\n",
       "    </tr>\n",
       "    <tr>\n",
       "      <th>3</th>\n",
       "      <td>7809</td>\n",
       "      <td>7809</td>\n",
       "      <td>Germany 1. Bundesliga</td>\n",
       "    </tr>\n",
       "    <tr>\n",
       "      <th>4</th>\n",
       "      <td>10257</td>\n",
       "      <td>10257</td>\n",
       "      <td>Italy Serie A</td>\n",
       "    </tr>\n",
       "    <tr>\n",
       "      <th>5</th>\n",
       "      <td>13274</td>\n",
       "      <td>13274</td>\n",
       "      <td>Netherlands Eredivisie</td>\n",
       "    </tr>\n",
       "    <tr>\n",
       "      <th>6</th>\n",
       "      <td>15722</td>\n",
       "      <td>15722</td>\n",
       "      <td>Poland Ekstraklasa</td>\n",
       "    </tr>\n",
       "    <tr>\n",
       "      <th>7</th>\n",
       "      <td>17642</td>\n",
       "      <td>17642</td>\n",
       "      <td>Portugal Liga ZON Sagres</td>\n",
       "    </tr>\n",
       "    <tr>\n",
       "      <th>8</th>\n",
       "      <td>19694</td>\n",
       "      <td>19694</td>\n",
       "      <td>Scotland Premier League</td>\n",
       "    </tr>\n",
       "    <tr>\n",
       "      <th>9</th>\n",
       "      <td>21518</td>\n",
       "      <td>21518</td>\n",
       "      <td>Spain LIGA BBVA</td>\n",
       "    </tr>\n",
       "    <tr>\n",
       "      <th>10</th>\n",
       "      <td>24558</td>\n",
       "      <td>24558</td>\n",
       "      <td>Switzerland Super League</td>\n",
       "    </tr>\n",
       "  </tbody>\n",
       "</table>\n",
       "</div>"
      ],
      "text/plain": [
       "       id  country_id                      name\n",
       "0       1           1    Belgium Jupiler League\n",
       "1    1729        1729    England Premier League\n",
       "2    4769        4769            France Ligue 1\n",
       "3    7809        7809     Germany 1. Bundesliga\n",
       "4   10257       10257             Italy Serie A\n",
       "5   13274       13274    Netherlands Eredivisie\n",
       "6   15722       15722        Poland Ekstraklasa\n",
       "7   17642       17642  Portugal Liga ZON Sagres\n",
       "8   19694       19694   Scotland Premier League\n",
       "9   21518       21518           Spain LIGA BBVA\n",
       "10  24558       24558  Switzerland Super League"
      ]
     },
     "execution_count": 4,
     "metadata": {},
     "output_type": "execute_result"
    }
   ],
   "source": [
    "#Test by calling one table (League)\n",
    "query('''\n",
    "        SELECT *\n",
    "        FROM league\n",
    "        ''')"
   ]
  },
  {
   "cell_type": "code",
   "execution_count": 5,
   "id": "c66bb068-6246-491a-91f2-c924c2f30c2f",
   "metadata": {},
   "outputs": [
    {
     "data": {
      "text/html": [
       "<div>\n",
       "<style scoped>\n",
       "    .dataframe tbody tr th:only-of-type {\n",
       "        vertical-align: middle;\n",
       "    }\n",
       "\n",
       "    .dataframe tbody tr th {\n",
       "        vertical-align: top;\n",
       "    }\n",
       "\n",
       "    .dataframe thead th {\n",
       "        text-align: right;\n",
       "    }\n",
       "</style>\n",
       "<table border=\"1\" class=\"dataframe\">\n",
       "  <thead>\n",
       "    <tr style=\"text-align: right;\">\n",
       "      <th></th>\n",
       "      <th>season</th>\n",
       "    </tr>\n",
       "  </thead>\n",
       "  <tbody>\n",
       "    <tr>\n",
       "      <th>0</th>\n",
       "      <td>2008/2009</td>\n",
       "    </tr>\n",
       "    <tr>\n",
       "      <th>1</th>\n",
       "      <td>2009/2010</td>\n",
       "    </tr>\n",
       "    <tr>\n",
       "      <th>2</th>\n",
       "      <td>2010/2011</td>\n",
       "    </tr>\n",
       "    <tr>\n",
       "      <th>3</th>\n",
       "      <td>2011/2012</td>\n",
       "    </tr>\n",
       "    <tr>\n",
       "      <th>4</th>\n",
       "      <td>2012/2013</td>\n",
       "    </tr>\n",
       "    <tr>\n",
       "      <th>5</th>\n",
       "      <td>2013/2014</td>\n",
       "    </tr>\n",
       "    <tr>\n",
       "      <th>6</th>\n",
       "      <td>2014/2015</td>\n",
       "    </tr>\n",
       "    <tr>\n",
       "      <th>7</th>\n",
       "      <td>2015/2016</td>\n",
       "    </tr>\n",
       "  </tbody>\n",
       "</table>\n",
       "</div>"
      ],
      "text/plain": [
       "      season\n",
       "0  2008/2009\n",
       "1  2009/2010\n",
       "2  2010/2011\n",
       "3  2011/2012\n",
       "4  2012/2013\n",
       "5  2013/2014\n",
       "6  2014/2015\n",
       "7  2015/2016"
      ]
     },
     "execution_count": 5,
     "metadata": {},
     "output_type": "execute_result"
    }
   ],
   "source": [
    "query('''\n",
    "SELECT DISTINCT season FROM MATCH\n",
    "''')"
   ]
  },
  {
   "cell_type": "markdown",
   "id": "58faca87",
   "metadata": {},
   "source": [
    "## Queries"
   ]
  },
  {
   "cell_type": "markdown",
   "id": "095aa661",
   "metadata": {},
   "source": [
    "## 1- Determine the total and average number of matches played a in each league by each country for the entire period"
   ]
  },
  {
   "cell_type": "code",
   "execution_count": 8,
   "id": "6a02098b",
   "metadata": {},
   "outputs": [
    {
     "data": {
      "text/html": [
       "<div>\n",
       "<style scoped>\n",
       "    .dataframe tbody tr th:only-of-type {\n",
       "        vertical-align: middle;\n",
       "    }\n",
       "\n",
       "    .dataframe tbody tr th {\n",
       "        vertical-align: top;\n",
       "    }\n",
       "\n",
       "    .dataframe thead th {\n",
       "        text-align: right;\n",
       "    }\n",
       "</style>\n",
       "<table border=\"1\" class=\"dataframe\">\n",
       "  <thead>\n",
       "    <tr style=\"text-align: right;\">\n",
       "      <th></th>\n",
       "      <th>country</th>\n",
       "      <th>league</th>\n",
       "      <th>matches_played</th>\n",
       "    </tr>\n",
       "  </thead>\n",
       "  <tbody>\n",
       "    <tr>\n",
       "      <th>0</th>\n",
       "      <td>England</td>\n",
       "      <td>England Premier League</td>\n",
       "      <td>3040</td>\n",
       "    </tr>\n",
       "    <tr>\n",
       "      <th>1</th>\n",
       "      <td>France</td>\n",
       "      <td>France Ligue 1</td>\n",
       "      <td>3040</td>\n",
       "    </tr>\n",
       "    <tr>\n",
       "      <th>2</th>\n",
       "      <td>Spain</td>\n",
       "      <td>Spain LIGA BBVA</td>\n",
       "      <td>3040</td>\n",
       "    </tr>\n",
       "    <tr>\n",
       "      <th>3</th>\n",
       "      <td>Italy</td>\n",
       "      <td>Italy Serie A</td>\n",
       "      <td>3017</td>\n",
       "    </tr>\n",
       "    <tr>\n",
       "      <th>4</th>\n",
       "      <td>Germany</td>\n",
       "      <td>Germany 1. Bundesliga</td>\n",
       "      <td>2448</td>\n",
       "    </tr>\n",
       "    <tr>\n",
       "      <th>5</th>\n",
       "      <td>Netherlands</td>\n",
       "      <td>Netherlands Eredivisie</td>\n",
       "      <td>2448</td>\n",
       "    </tr>\n",
       "    <tr>\n",
       "      <th>6</th>\n",
       "      <td>Portugal</td>\n",
       "      <td>Portugal Liga ZON Sagres</td>\n",
       "      <td>2052</td>\n",
       "    </tr>\n",
       "    <tr>\n",
       "      <th>7</th>\n",
       "      <td>Poland</td>\n",
       "      <td>Poland Ekstraklasa</td>\n",
       "      <td>1920</td>\n",
       "    </tr>\n",
       "    <tr>\n",
       "      <th>8</th>\n",
       "      <td>Scotland</td>\n",
       "      <td>Scotland Premier League</td>\n",
       "      <td>1824</td>\n",
       "    </tr>\n",
       "    <tr>\n",
       "      <th>9</th>\n",
       "      <td>Belgium</td>\n",
       "      <td>Belgium Jupiler League</td>\n",
       "      <td>1728</td>\n",
       "    </tr>\n",
       "    <tr>\n",
       "      <th>10</th>\n",
       "      <td>Switzerland</td>\n",
       "      <td>Switzerland Super League</td>\n",
       "      <td>1422</td>\n",
       "    </tr>\n",
       "  </tbody>\n",
       "</table>\n",
       "</div>"
      ],
      "text/plain": [
       "        country                    league  matches_played\n",
       "0       England    England Premier League            3040\n",
       "1        France            France Ligue 1            3040\n",
       "2         Spain           Spain LIGA BBVA            3040\n",
       "3         Italy             Italy Serie A            3017\n",
       "4       Germany     Germany 1. Bundesliga            2448\n",
       "5   Netherlands    Netherlands Eredivisie            2448\n",
       "6      Portugal  Portugal Liga ZON Sagres            2052\n",
       "7        Poland        Poland Ekstraklasa            1920\n",
       "8      Scotland   Scotland Premier League            1824\n",
       "9       Belgium    Belgium Jupiler League            1728\n",
       "10  Switzerland  Switzerland Super League            1422"
      ]
     },
     "execution_count": 8,
     "metadata": {},
     "output_type": "execute_result"
    }
   ],
   "source": [
    "query('''\n",
    "        SELECT c.name country, l.name league, COUNT(match_api_id) matches_played\n",
    "        FROM match m\n",
    "        JOIN country c\n",
    "        ON c.id = m.country_id\n",
    "        JOIN league l\n",
    "        ON l.country_id = c.id\n",
    "        GROUP BY league\n",
    "        ORDER BY matches_played DESC\n",
    "        ''')"
   ]
  },
  {
   "cell_type": "code",
   "execution_count": null,
   "id": "2ca35319",
   "metadata": {},
   "outputs": [],
   "source": [
    "## 2- Determine the average number of matches played per year by country"
   ]
  },
  {
   "cell_type": "code",
   "execution_count": 6,
   "id": "e3cb7005",
   "metadata": {},
   "outputs": [
    {
     "data": {
      "text/html": [
       "<div>\n",
       "<style scoped>\n",
       "    .dataframe tbody tr th:only-of-type {\n",
       "        vertical-align: middle;\n",
       "    }\n",
       "\n",
       "    .dataframe tbody tr th {\n",
       "        vertical-align: top;\n",
       "    }\n",
       "\n",
       "    .dataframe thead th {\n",
       "        text-align: right;\n",
       "    }\n",
       "</style>\n",
       "<table border=\"1\" class=\"dataframe\">\n",
       "  <thead>\n",
       "    <tr style=\"text-align: right;\">\n",
       "      <th></th>\n",
       "      <th>country</th>\n",
       "      <th>avg</th>\n",
       "    </tr>\n",
       "  </thead>\n",
       "  <tbody>\n",
       "    <tr>\n",
       "      <th>0</th>\n",
       "      <td>Spain</td>\n",
       "      <td>337.777778</td>\n",
       "    </tr>\n",
       "    <tr>\n",
       "      <th>1</th>\n",
       "      <td>France</td>\n",
       "      <td>337.777778</td>\n",
       "    </tr>\n",
       "    <tr>\n",
       "      <th>2</th>\n",
       "      <td>England</td>\n",
       "      <td>337.777778</td>\n",
       "    </tr>\n",
       "    <tr>\n",
       "      <th>3</th>\n",
       "      <td>Italy</td>\n",
       "      <td>335.222222</td>\n",
       "    </tr>\n",
       "    <tr>\n",
       "      <th>4</th>\n",
       "      <td>Netherlands</td>\n",
       "      <td>272.000000</td>\n",
       "    </tr>\n",
       "    <tr>\n",
       "      <th>5</th>\n",
       "      <td>Germany</td>\n",
       "      <td>272.000000</td>\n",
       "    </tr>\n",
       "    <tr>\n",
       "      <th>6</th>\n",
       "      <td>Portugal</td>\n",
       "      <td>228.000000</td>\n",
       "    </tr>\n",
       "    <tr>\n",
       "      <th>7</th>\n",
       "      <td>Poland</td>\n",
       "      <td>213.333333</td>\n",
       "    </tr>\n",
       "    <tr>\n",
       "      <th>8</th>\n",
       "      <td>Scotland</td>\n",
       "      <td>202.666667</td>\n",
       "    </tr>\n",
       "    <tr>\n",
       "      <th>9</th>\n",
       "      <td>Belgium</td>\n",
       "      <td>192.000000</td>\n",
       "    </tr>\n",
       "    <tr>\n",
       "      <th>10</th>\n",
       "      <td>Switzerland</td>\n",
       "      <td>158.000000</td>\n",
       "    </tr>\n",
       "  </tbody>\n",
       "</table>\n",
       "</div>"
      ],
      "text/plain": [
       "        country         avg\n",
       "0         Spain  337.777778\n",
       "1        France  337.777778\n",
       "2       England  337.777778\n",
       "3         Italy  335.222222\n",
       "4   Netherlands  272.000000\n",
       "5       Germany  272.000000\n",
       "6      Portugal  228.000000\n",
       "7        Poland  213.333333\n",
       "8      Scotland  202.666667\n",
       "9       Belgium  192.000000\n",
       "10  Switzerland  158.000000"
      ]
     },
     "execution_count": 6,
     "metadata": {},
     "output_type": "execute_result"
    }
   ],
   "source": [
    "coun = query('''\n",
    "sELECT country, AVG(matches) avg\n",
    "FROM   (SELECT country, year, COUNT(match_api_id) matches\n",
    "        FROM    (SELECT SUBSTRING(m.date, 1, 4) year, m.match_api_id, c.name country\n",
    "                FROM match m\n",
    "                JOIN country c\n",
    "        ON c.id = m.country_id) y\n",
    "        GROUP BY country, year) x\n",
    "GROUP BY country\n",
    "ORDER BY avg DESC\n",
    "            \n",
    "        ''')\n",
    "\n",
    "coun"
   ]
  },
  {
   "cell_type": "code",
   "execution_count": 9,
   "id": "85844354",
   "metadata": {},
   "outputs": [
    {
     "data": {
      "image/png": "[encoded data removed]",
      "text/plain": [
       "<Figure size 1080x504 with 1 Axes>"
      ]
     },
     "metadata": {
      "needs_background": "light"
     },
     "output_type": "display_data"
    }
   ],
   "source": [
    "plt.figure(figsize=(15,7))\n",
    "base_color = sns.color_palette()[0]\n",
    "sns.barplot(x=\"country\", y=\"avg\", data=coun, color=base_color);"
   ]
  },
  {
   "cell_type": "markdown",
   "id": "113a0da7-5ec1-4263-abb0-6525a5f843a9",
   "metadata": {},
   "source": [
    "## How did each team in the English Premier League do in the 2010/2011 season?"
   ]
  },
  {
   "cell_type": "code",
   "execution_count": 1,
   "id": "41b87f07-d11f-4a8f-b0e0-4a125c754699",
   "metadata": {},
   "outputs": [
    {
     "ename": "NameError",
     "evalue": "name 'query' is not defined",
     "output_type": "error",
     "traceback": [
      "\u001b[1;31m---------------------------------------------------------------------------\u001b[0m",
      "\u001b[1;31mNameError\u001b[0m                                 Traceback (most recent call last)",
      "Input \u001b[1;32mIn [1]\u001b[0m, in \u001b[0;36m<cell line: 1>\u001b[1;34m()\u001b[0m\n\u001b[1;32m----> 1\u001b[0m teamWins \u001b[38;5;241m=\u001b[39m \u001b[43mquery\u001b[49m(\u001b[38;5;124m\"\"\"\u001b[39m\n\u001b[0;32m      2\u001b[0m \u001b[38;5;124mSELECT home_team AS team, SUM(home_win + away_win) as wins FROM \u001b[39m\n\u001b[0;32m      3\u001b[0m \u001b[38;5;124m(SELECT MATCH.id, t1.team_long_name as home_team, t2.team_long_name as away_team,\u001b[39m\n\u001b[0;32m      4\u001b[0m \u001b[38;5;124m(CASE \u001b[39m\n\u001b[0;32m      5\u001b[0m \u001b[38;5;124mWHEN home_team_goal > away_team_goal \u001b[39m\n\u001b[0;32m      6\u001b[0m \u001b[38;5;124mTHEN 1 ELSE 0 \u001b[39m\n\u001b[0;32m      7\u001b[0m \u001b[38;5;124mEND) AS home_win,\u001b[39m\n\u001b[0;32m      8\u001b[0m \u001b[38;5;124m(CASE WHEN home_team_goal = away_team_goal \u001b[39m\n\u001b[0;32m      9\u001b[0m \u001b[38;5;124mTHEN 1 ELSE 0 \u001b[39m\n\u001b[0;32m     10\u001b[0m \u001b[38;5;124mEND) AS draw,\u001b[39m\n\u001b[0;32m     11\u001b[0m \u001b[38;5;124m(CASE WHEN home_team_goal < away_team_goal \u001b[39m\n\u001b[0;32m     12\u001b[0m \u001b[38;5;124mTHEN 1 ELSE 0 \u001b[39m\n\u001b[0;32m     13\u001b[0m \u001b[38;5;124mEND) AS away_win\u001b[39m\n\u001b[0;32m     14\u001b[0m \u001b[38;5;124mFROM MATCH \u001b[39m\n\u001b[0;32m     15\u001b[0m \u001b[38;5;124mJOIN TEAM as t1 ON t1.team_api_id = MATCH.home_team_api_id \u001b[39m\n\u001b[0;32m     16\u001b[0m \u001b[38;5;124mJOIN TEAM as t2 ON t2.team_api_id = MATCH.away_team_api_id\u001b[39m\n\u001b[0;32m     17\u001b[0m \u001b[38;5;124mWHERE league_id = 1729 AND season = \u001b[39m\u001b[38;5;124m'\u001b[39m\u001b[38;5;124m2010/2011\u001b[39m\u001b[38;5;124m'\u001b[39m\u001b[38;5;124m)\u001b[39m\n\u001b[0;32m     18\u001b[0m \u001b[38;5;124mGROUP BY home_team\u001b[39m\n\u001b[0;32m     19\u001b[0m \u001b[38;5;124mORDER BY wins\u001b[39m\n\u001b[0;32m     20\u001b[0m \u001b[38;5;124m\"\"\"\u001b[39m)\n\u001b[0;32m     21\u001b[0m color \u001b[38;5;241m=\u001b[39m sns\u001b[38;5;241m.\u001b[39mcolor_palette()[\u001b[38;5;241m0\u001b[39m]\n\u001b[0;32m     22\u001b[0m plt\u001b[38;5;241m.\u001b[39mfigure(figsize\u001b[38;5;241m=\u001b[39m(\u001b[38;5;241m15\u001b[39m,\u001b[38;5;241m8\u001b[39m))\n",
      "\u001b[1;31mNameError\u001b[0m: name 'query' is not defined"
     ]
    }
   ],
   "source": [
    "teamWins = query(\"\"\"\n",
    "SELECT home_team AS team, SUM(home_win + away_win) as wins FROM \n",
    "(SELECT MATCH.id, t1.team_long_name as home_team, t2.team_long_name as away_team,\n",
    "(CASE \n",
    "WHEN home_team_goal > away_team_goal \n",
    "THEN 1 ELSE 0 \n",
    "END) AS home_win,\n",
    "(CASE WHEN home_team_goal = away_team_goal \n",
    "THEN 1 ELSE 0 \n",
    "END) AS draw,\n",
    "(CASE WHEN home_team_goal < away_team_goal \n",
    "THEN 1 ELSE 0 \n",
    "END) AS away_win\n",
    "FROM MATCH \n",
    "JOIN TEAM as t1 ON t1.team_api_id = MATCH.home_team_api_id \n",
    "JOIN TEAM as t2 ON t2.team_api_id = MATCH.away_team_api_id\n",
    "WHERE league_id = 1729 AND season = '2010/2011')\n",
    "GROUP BY home_team\n",
    "ORDER BY wins\n",
    "\"\"\")\n",
    "color = sns.color_palette()[0]\n",
    "plt.figure(figsize=(15,8))\n",
    "sns.barplot(x='team', y = 'wins',data=teamWins, color=color)\n",
    "plt.xticks(rotation='vertical')\n",
    "plt.title('Team Wins English Premier League 2010/2011 Season')\n",
    "plt.show()"
   ]
  },
  {
   "cell_type": "markdown",
   "id": "c6cd096d-1b12-4b50-bc82-b5b93f6f49b9",
   "metadata": {},
   "source": [
    "## What kind of distribution does player rating look like?"
   ]
  },
  {
   "cell_type": "code",
   "execution_count": 18,
   "id": "f62cba85-4827-4dd9-b4de-8be8af23613d",
   "metadata": {},
   "outputs": [
    {
     "data": {
      "text/html": [
       "<div>\n",
       "<style scoped>\n",
       "    .dataframe tbody tr th:only-of-type {\n",
       "        vertical-align: middle;\n",
       "    }\n",
       "\n",
       "    .dataframe tbody tr th {\n",
       "        vertical-align: top;\n",
       "    }\n",
       "\n",
       "    .dataframe thead th {\n",
       "        text-align: right;\n",
       "    }\n",
       "</style>\n",
       "<table border=\"1\" class=\"dataframe\">\n",
       "  <thead>\n",
       "    <tr style=\"text-align: right;\">\n",
       "      <th></th>\n",
       "      <th>name</th>\n",
       "      <th>pf_foot</th>\n",
       "      <th>avg_rating</th>\n",
       "    </tr>\n",
       "  </thead>\n",
       "  <tbody>\n",
       "    <tr>\n",
       "      <th>0</th>\n",
       "      <td>Aaron Appindangoye</td>\n",
       "      <td>right</td>\n",
       "      <td>63</td>\n",
       "    </tr>\n",
       "    <tr>\n",
       "      <th>1</th>\n",
       "      <td>Aaron Cresswell</td>\n",
       "      <td>left</td>\n",
       "      <td>66</td>\n",
       "    </tr>\n",
       "    <tr>\n",
       "      <th>2</th>\n",
       "      <td>Aaron Doran</td>\n",
       "      <td>right</td>\n",
       "      <td>67</td>\n",
       "    </tr>\n",
       "    <tr>\n",
       "      <th>3</th>\n",
       "      <td>Aaron Galindo</td>\n",
       "      <td>right</td>\n",
       "      <td>69</td>\n",
       "    </tr>\n",
       "    <tr>\n",
       "      <th>4</th>\n",
       "      <td>Aaron Hughes</td>\n",
       "      <td>right</td>\n",
       "      <td>73</td>\n",
       "    </tr>\n",
       "    <tr>\n",
       "      <th>...</th>\n",
       "      <td>...</td>\n",
       "      <td>...</td>\n",
       "      <td>...</td>\n",
       "    </tr>\n",
       "    <tr>\n",
       "      <th>10843</th>\n",
       "      <td>Zsolt Low</td>\n",
       "      <td>left</td>\n",
       "      <td>67</td>\n",
       "    </tr>\n",
       "    <tr>\n",
       "      <th>10844</th>\n",
       "      <td>Zurab Khizanishvili</td>\n",
       "      <td>right</td>\n",
       "      <td>70</td>\n",
       "    </tr>\n",
       "    <tr>\n",
       "      <th>10845</th>\n",
       "      <td>Zvjezdan Misimovic</td>\n",
       "      <td>right</td>\n",
       "      <td>80</td>\n",
       "    </tr>\n",
       "    <tr>\n",
       "      <th>10846</th>\n",
       "      <td>de Oliveira Cleber Monteiro</td>\n",
       "      <td>right</td>\n",
       "      <td>66</td>\n",
       "    </tr>\n",
       "    <tr>\n",
       "      <th>10847</th>\n",
       "      <td>dos Santos Fabio Junior</td>\n",
       "      <td>left</td>\n",
       "      <td>66</td>\n",
       "    </tr>\n",
       "  </tbody>\n",
       "</table>\n",
       "<p>10848 rows × 3 columns</p>\n",
       "</div>"
      ],
      "text/plain": [
       "                              name pf_foot  avg_rating\n",
       "0               Aaron Appindangoye   right          63\n",
       "1                  Aaron Cresswell    left          66\n",
       "2                      Aaron Doran   right          67\n",
       "3                    Aaron Galindo   right          69\n",
       "4                     Aaron Hughes   right          73\n",
       "...                            ...     ...         ...\n",
       "10843                    Zsolt Low    left          67\n",
       "10844          Zurab Khizanishvili   right          70\n",
       "10845           Zvjezdan Misimovic   right          80\n",
       "10846  de Oliveira Cleber Monteiro   right          66\n",
       "10847      dos Santos Fabio Junior    left          66\n",
       "\n",
       "[10848 rows x 3 columns]"
      ]
     },
     "execution_count": 18,
     "metadata": {},
     "output_type": "execute_result"
    }
   ],
   "source": [
    "ratings = query('''\n",
    "SELECT pl.player_name as name, pa.preferred_foot as pf_foot, SUM(overall_rating)/COUNT(*) as avg_rating\n",
    "FROM PLAYER as pl\n",
    "JOIN PLAYER_ATTRIBUTES AS pa\n",
    "ON pa.player_api_id = pl.player_api_id\n",
    "GROUP BY pl.player_name\n",
    "''')\n",
    "\n",
    "ratings"
   ]
  },
  {
   "cell_type": "code",
   "execution_count": 19,
   "id": "167e31de-d54c-47d3-8792-2286b0b1a6b3",
   "metadata": {},
   "outputs": [
    {
     "data": {
      "image/png": "[encoded data removed]",
      "text/plain": [
       "<Figure size 720x360 with 1 Axes>"
      ]
     },
     "metadata": {
      "needs_background": "light"
     },
     "output_type": "display_data"
    }
   ],
   "source": [
    "plt.figure(figsize=(10,5))\n",
    "plt.title('Player Ratings')\n",
    "sns.histplot(data = ratings['avg_rating'], bins=60)\n",
    "plt.xlabel('Average Rating')\n",
    "plt.ylabel('Count')\n",
    "plt.show()"
   ]
  },
  {
   "cell_type": "markdown",
   "id": "62aa57d4-c2a3-4db7-b0a9-e5f087143677",
   "metadata": {},
   "source": [
    "## Are more players right footed than left footed? Is there a difference between right/left footedness rankings?"
   ]
  },
  {
   "cell_type": "code",
   "execution_count": 20,
   "id": "eab56415-f004-4e04-b382-5d81159d8bb2",
   "metadata": {},
   "outputs": [
    {
     "data": {
      "image/png": "[encoded data removed]",
      "text/plain": [
       "<Figure size 576x360 with 1 Axes>"
      ]
     },
     "metadata": {
      "needs_background": "light"
     },
     "output_type": "display_data"
    }
   ],
   "source": [
    "counts = ratings['pf_foot'].value_counts()\n",
    "plt.figure(figsize=(8,5))\n",
    "sns.barplot(x= counts.index, y = counts,data = pd.DataFrame(counts))\n",
    "plt.xlabel('Preferred Foot')\n",
    "plt.ylabel('Number of Players')\n",
    "plt.title('Preferred Foot of European Soccer Players')\n",
    "plt.show()"
   ]
  },
  {
   "cell_type": "markdown",
   "id": "230e1941-4cda-49a8-96ee-71aa0c60abbb",
   "metadata": {},
   "source": [
    "More players as are predominantly right-footed as expected"
   ]
  },
  {
   "cell_type": "code",
   "execution_count": 23,
   "id": "117b36d3-3865-4368-92df-49998b7d8ea7",
   "metadata": {},
   "outputs": [],
   "source": [
    "left_ratings = query('''\n",
    "SELECT avg_rating FROM \n",
    "(SELECT pl.player_name as name, pa.preferred_foot as pf_foot, SUM(overall_rating)/COUNT(*) as avg_rating\n",
    "FROM PLAYER as pl\n",
    "JOIN PLAYER_ATTRIBUTES AS pa\n",
    "ON pa.player_api_id = pl.player_api_id\n",
    "GROUP BY pl.player_name) WHERE pf_foot = 'left'\n",
    "''')\n",
    "\n",
    "right_ratings = query('''\n",
    "SELECT avg_rating FROM \n",
    "(SELECT pl.player_name as name, pa.preferred_foot as pf_foot, SUM(overall_rating)/COUNT(*) as avg_rating\n",
    "FROM PLAYER as pl\n",
    "JOIN PLAYER_ATTRIBUTES AS pa\n",
    "ON pa.player_api_id = pl.player_api_id\n",
    "GROUP BY pl.player_name) WHERE pf_foot = 'right'\n",
    "''')"
   ]
  },
  {
   "cell_type": "code",
   "execution_count": 26,
   "id": "71f39e4e-a7e0-41a3-92e7-a445ad5b425d",
   "metadata": {},
   "outputs": [
    {
     "data": {
      "image/png": "[encoded data removed]",
      "text/plain": [
       "<Figure size 1080x360 with 2 Axes>"
      ]
     },
     "metadata": {
      "needs_background": "light"
     },
     "output_type": "display_data"
    }
   ],
   "source": [
    "plt.figure(figsize=(15,5))\n",
    "plt.subplot(1,2,1)\n",
    "plt.title('Ratings of Right Footed Players')\n",
    "sns.histplot(data = right_ratings['avg_rating'], bins=60)\n",
    "plt.xlabel('Average Rating')\n",
    "plt.ylabel('Count')\n",
    "plt.subplot(1,2,2)\n",
    "plt.title('Ratings of Left Footed Players')\n",
    "sns.histplot(data = left_ratings['avg_rating'], bins=60)\n",
    "plt.xlabel('Average Rating')\n",
    "plt.ylabel('Count')\n",
    "plt.show()"
   ]
  },
  {
   "cell_type": "code",
   "execution_count": 27,
   "id": "d5f4705e-dfdb-492c-9d22-7adf2c515268",
   "metadata": {},
   "outputs": [
    {
     "data": {
      "text/plain": [
       "True"
      ]
     },
     "execution_count": 27,
     "metadata": {},
     "output_type": "execute_result"
    }
   ],
   "source": [
    "np.median(right_ratings) == np.median(left_ratings)"
   ]
  },
  {
   "cell_type": "markdown",
   "id": "41b93748-91b7-4b31-a0ea-adec5fcbe66e",
   "metadata": {},
   "source": [
    "Not only is the median rating of left and right footed players the same, their distributions look similar too!"
   ]
  },
  {
   "cell_type": "markdown",
   "id": "02ee4e6f-3b9c-4df1-a113-77d2a2a9c27e",
   "metadata": {},
   "source": [
    "## Trend in games with goals scored with headers"
   ]
  },
  {
   "cell_type": "code",
   "execution_count": 31,
   "id": "b3cd6cb3-2916-4816-9174-4fa79f6821e3",
   "metadata": {},
   "outputs": [],
   "source": [
    "header_goals = query(\n",
    "'''\n",
    "SELECT season, 1.0*COUNT(goal)/(SELECT COUNT(*) FROM MATCH GROUP BY season) as goals \n",
    "FROM Match \n",
    "WHERE goal LIKE '%header%'\n",
    "GROUP BY season\n",
    "''')"
   ]
  },
  {
   "cell_type": "code",
   "execution_count": 32,
   "id": "84565198-f460-465d-9c6f-e364bb825ecc",
   "metadata": {},
   "outputs": [
    {
     "data": {
      "text/html": [
       "<div>\n",
       "<style scoped>\n",
       "    .dataframe tbody tr th:only-of-type {\n",
       "        vertical-align: middle;\n",
       "    }\n",
       "\n",
       "    .dataframe tbody tr th {\n",
       "        vertical-align: top;\n",
       "    }\n",
       "\n",
       "    .dataframe thead th {\n",
       "        text-align: right;\n",
       "    }\n",
       "</style>\n",
       "<table border=\"1\" class=\"dataframe\">\n",
       "  <thead>\n",
       "    <tr style=\"text-align: right;\">\n",
       "      <th></th>\n",
       "      <th>season</th>\n",
       "      <th>goals</th>\n",
       "    </tr>\n",
       "  </thead>\n",
       "  <tbody>\n",
       "    <tr>\n",
       "      <th>0</th>\n",
       "      <td>2008/2009</td>\n",
       "      <td>0.099519</td>\n",
       "    </tr>\n",
       "    <tr>\n",
       "      <th>1</th>\n",
       "      <td>2009/2010</td>\n",
       "      <td>0.113049</td>\n",
       "    </tr>\n",
       "    <tr>\n",
       "      <th>2</th>\n",
       "      <td>2010/2011</td>\n",
       "      <td>0.120265</td>\n",
       "    </tr>\n",
       "    <tr>\n",
       "      <th>3</th>\n",
       "      <td>2011/2012</td>\n",
       "      <td>0.118761</td>\n",
       "    </tr>\n",
       "    <tr>\n",
       "      <th>4</th>\n",
       "      <td>2012/2013</td>\n",
       "      <td>0.043897</td>\n",
       "    </tr>\n",
       "    <tr>\n",
       "      <th>5</th>\n",
       "      <td>2013/2014</td>\n",
       "      <td>0.040589</td>\n",
       "    </tr>\n",
       "    <tr>\n",
       "      <th>6</th>\n",
       "      <td>2014/2015</td>\n",
       "      <td>0.204149</td>\n",
       "    </tr>\n",
       "    <tr>\n",
       "      <th>7</th>\n",
       "      <td>2015/2016</td>\n",
       "      <td>0.235117</td>\n",
       "    </tr>\n",
       "  </tbody>\n",
       "</table>\n",
       "</div>"
      ],
      "text/plain": [
       "      season     goals\n",
       "0  2008/2009  0.099519\n",
       "1  2009/2010  0.113049\n",
       "2  2010/2011  0.120265\n",
       "3  2011/2012  0.118761\n",
       "4  2012/2013  0.043897\n",
       "5  2013/2014  0.040589\n",
       "6  2014/2015  0.204149\n",
       "7  2015/2016  0.235117"
      ]
     },
     "execution_count": 32,
     "metadata": {},
     "output_type": "execute_result"
    }
   ],
   "source": [
    "header_goals"
   ]
  },
  {
   "cell_type": "code",
   "execution_count": 35,
   "id": "cee9f4c2-85c8-4e05-a1d2-1f866c083de7",
   "metadata": {},
   "outputs": [
    {
     "data": {
      "image/png": "[encoded data removed]",
      "text/plain": [
       "<Figure size 1080x576 with 1 Axes>"
      ]
     },
     "metadata": {
      "needs_background": "light"
     },
     "output_type": "display_data"
    }
   ],
   "source": [
    "plt.figure(figsize=(15,8))\n",
    "sns.barplot(x = 'season', y='goals', data = header_goals, color = sns.color_palette()[0])\n",
    "plt.ylabel('Proportion of Games with at Least One Header Scored')\n",
    "plt.title('2008 - 2016 Games with at Least One Header Scored By Season')\n",
    "plt.show()"
   ]
  },
  {
   "cell_type": "markdown",
   "id": "fe86d5ab-ac6a-4d34-9fe1-13aeacbd6ff0",
   "metadata": {},
   "source": [
    "2012/2013 and 2013/2014 saw a drastic decline in the goals scored by headers, however, there was a significant jump in the proportion of header goals the next two seasons"
   ]
  },
  {
   "cell_type": "markdown",
   "id": "a122a200-484a-4b96-ba4a-449d197a86a3",
   "metadata": {},
   "source": [
    "## Relationship between player heoght and weight"
   ]
  },
  {
   "cell_type": "code",
   "execution_count": 58,
   "id": "9f18e687-33a6-4fed-9cfe-ee6d060fa5d7",
   "metadata": {},
   "outputs": [
    {
     "data": {
      "text/html": [
       "<div>\n",
       "<style scoped>\n",
       "    .dataframe tbody tr th:only-of-type {\n",
       "        vertical-align: middle;\n",
       "    }\n",
       "\n",
       "    .dataframe tbody tr th {\n",
       "        vertical-align: top;\n",
       "    }\n",
       "\n",
       "    .dataframe thead th {\n",
       "        text-align: right;\n",
       "    }\n",
       "</style>\n",
       "<table border=\"1\" class=\"dataframe\">\n",
       "  <thead>\n",
       "    <tr style=\"text-align: right;\">\n",
       "      <th></th>\n",
       "      <th>name</th>\n",
       "      <th>height</th>\n",
       "      <th>weight</th>\n",
       "      <th>avg_rating</th>\n",
       "    </tr>\n",
       "  </thead>\n",
       "  <tbody>\n",
       "    <tr>\n",
       "      <th>0</th>\n",
       "      <td>Aaron Appindangoye</td>\n",
       "      <td>182.88</td>\n",
       "      <td>187</td>\n",
       "      <td>63</td>\n",
       "    </tr>\n",
       "    <tr>\n",
       "      <th>1</th>\n",
       "      <td>Aaron Cresswell</td>\n",
       "      <td>170.18</td>\n",
       "      <td>146</td>\n",
       "      <td>66</td>\n",
       "    </tr>\n",
       "    <tr>\n",
       "      <th>2</th>\n",
       "      <td>Aaron Doran</td>\n",
       "      <td>170.18</td>\n",
       "      <td>163</td>\n",
       "      <td>67</td>\n",
       "    </tr>\n",
       "    <tr>\n",
       "      <th>3</th>\n",
       "      <td>Aaron Galindo</td>\n",
       "      <td>182.88</td>\n",
       "      <td>198</td>\n",
       "      <td>69</td>\n",
       "    </tr>\n",
       "    <tr>\n",
       "      <th>4</th>\n",
       "      <td>Aaron Hughes</td>\n",
       "      <td>182.88</td>\n",
       "      <td>154</td>\n",
       "      <td>73</td>\n",
       "    </tr>\n",
       "    <tr>\n",
       "      <th>...</th>\n",
       "      <td>...</td>\n",
       "      <td>...</td>\n",
       "      <td>...</td>\n",
       "      <td>...</td>\n",
       "    </tr>\n",
       "    <tr>\n",
       "      <th>10843</th>\n",
       "      <td>Zsolt Low</td>\n",
       "      <td>180.34</td>\n",
       "      <td>154</td>\n",
       "      <td>67</td>\n",
       "    </tr>\n",
       "    <tr>\n",
       "      <th>10844</th>\n",
       "      <td>Zurab Khizanishvili</td>\n",
       "      <td>185.42</td>\n",
       "      <td>172</td>\n",
       "      <td>70</td>\n",
       "    </tr>\n",
       "    <tr>\n",
       "      <th>10845</th>\n",
       "      <td>Zvjezdan Misimovic</td>\n",
       "      <td>180.34</td>\n",
       "      <td>176</td>\n",
       "      <td>80</td>\n",
       "    </tr>\n",
       "    <tr>\n",
       "      <th>10846</th>\n",
       "      <td>de Oliveira Cleber Monteiro</td>\n",
       "      <td>182.88</td>\n",
       "      <td>170</td>\n",
       "      <td>66</td>\n",
       "    </tr>\n",
       "    <tr>\n",
       "      <th>10847</th>\n",
       "      <td>dos Santos Fabio Junior</td>\n",
       "      <td>175.26</td>\n",
       "      <td>174</td>\n",
       "      <td>66</td>\n",
       "    </tr>\n",
       "  </tbody>\n",
       "</table>\n",
       "<p>10848 rows × 4 columns</p>\n",
       "</div>"
      ],
      "text/plain": [
       "                              name  height  weight  avg_rating\n",
       "0               Aaron Appindangoye  182.88     187          63\n",
       "1                  Aaron Cresswell  170.18     146          66\n",
       "2                      Aaron Doran  170.18     163          67\n",
       "3                    Aaron Galindo  182.88     198          69\n",
       "4                     Aaron Hughes  182.88     154          73\n",
       "...                            ...     ...     ...         ...\n",
       "10843                    Zsolt Low  180.34     154          67\n",
       "10844          Zurab Khizanishvili  185.42     172          70\n",
       "10845           Zvjezdan Misimovic  180.34     176          80\n",
       "10846  de Oliveira Cleber Monteiro  182.88     170          66\n",
       "10847      dos Santos Fabio Junior  175.26     174          66\n",
       "\n",
       "[10848 rows x 4 columns]"
      ]
     },
     "execution_count": 58,
     "metadata": {},
     "output_type": "execute_result"
    }
   ],
   "source": [
    "height_and_weight = query('''\n",
    "SELECT pl.player_name as name, pl.height, pl.weight, SUM(overall_rating)/COUNT(*) as avg_rating\n",
    "FROM PLAYER as pl\n",
    "JOIN PLAYER_ATTRIBUTES AS pa\n",
    "ON pa.player_api_id = pl.player_api_id\n",
    "GROUP BY pl.player_name\n",
    "''')\n",
    "\n",
    "height_and_weight"
   ]
  },
  {
   "cell_type": "code",
   "execution_count": 71,
   "id": "83b8c3fc-d41e-4186-8ac4-405dd78f82ab",
   "metadata": {},
   "outputs": [
    {
     "data": {
      "image/png": "[encoded data removed]",
      "text/plain": [
       "<Figure size 1080x360 with 1 Axes>"
      ]
     },
     "metadata": {
      "needs_background": "light"
     },
     "output_type": "display_data"
    }
   ],
   "source": [
    "plt.figure(figsize=(15,5))\n",
    "sns.scatterplot(data=height_and_weight, x = 'height', y = 'weight')\n",
    "plt.xlabel('height (cm)')\n",
    "plt.ylabel('weight (lbs)')\n",
    "plt.title('Heights and Weights of European Soccer Players')\n",
    "plt.show()"
   ]
  },
  {
   "cell_type": "code",
   "execution_count": 63,
   "id": "14abcd03-0905-4773-8b23-8717fd40415f",
   "metadata": {},
   "outputs": [
    {
     "data": {
      "text/html": [
       "<div>\n",
       "<style scoped>\n",
       "    .dataframe tbody tr th:only-of-type {\n",
       "        vertical-align: middle;\n",
       "    }\n",
       "\n",
       "    .dataframe tbody tr th {\n",
       "        vertical-align: top;\n",
       "    }\n",
       "\n",
       "    .dataframe thead th {\n",
       "        text-align: right;\n",
       "    }\n",
       "</style>\n",
       "<table border=\"1\" class=\"dataframe\">\n",
       "  <thead>\n",
       "    <tr style=\"text-align: right;\">\n",
       "      <th></th>\n",
       "      <th>name</th>\n",
       "      <th>height</th>\n",
       "      <th>weight</th>\n",
       "      <th>avg_rating</th>\n",
       "    </tr>\n",
       "  </thead>\n",
       "  <tbody>\n",
       "    <tr>\n",
       "      <th>5788</th>\n",
       "      <td>Kristof van Hout</td>\n",
       "      <td>208.28</td>\n",
       "      <td>243</td>\n",
       "      <td>61</td>\n",
       "    </tr>\n",
       "  </tbody>\n",
       "</table>\n",
       "</div>"
      ],
      "text/plain": [
       "                  name  height  weight  avg_rating\n",
       "5788  Kristof van Hout  208.28     243          61"
      ]
     },
     "execution_count": 63,
     "metadata": {},
     "output_type": "execute_result"
    }
   ],
   "source": [
    "height_and_weight[height_and_weight[\"height\"] == height_and_weight['height'].max()]"
   ]
  },
  {
   "cell_type": "markdown",
   "id": "f4d66705-103d-4557-a468-fbe9bc70917f",
   "metadata": {},
   "source": [
    "Tallest player within the period was Kristof van Hout with a height of 208.28cm"
   ]
  },
  {
   "cell_type": "code",
   "execution_count": 64,
   "id": "dad4abf8-fee1-4d64-8bd6-562182d8ab20",
   "metadata": {},
   "outputs": [
    {
     "data": {
      "text/html": [
       "<div>\n",
       "<style scoped>\n",
       "    .dataframe tbody tr th:only-of-type {\n",
       "        vertical-align: middle;\n",
       "    }\n",
       "\n",
       "    .dataframe tbody tr th {\n",
       "        vertical-align: top;\n",
       "    }\n",
       "\n",
       "    .dataframe thead th {\n",
       "        text-align: right;\n",
       "    }\n",
       "</style>\n",
       "<table border=\"1\" class=\"dataframe\">\n",
       "  <thead>\n",
       "    <tr style=\"text-align: right;\">\n",
       "      <th></th>\n",
       "      <th>name</th>\n",
       "      <th>height</th>\n",
       "      <th>weight</th>\n",
       "      <th>avg_rating</th>\n",
       "    </tr>\n",
       "  </thead>\n",
       "  <tbody>\n",
       "    <tr>\n",
       "      <th>5788</th>\n",
       "      <td>Kristof van Hout</td>\n",
       "      <td>208.28</td>\n",
       "      <td>243</td>\n",
       "      <td>61</td>\n",
       "    </tr>\n",
       "    <tr>\n",
       "      <th>10092</th>\n",
       "      <td>Tim Wiese</td>\n",
       "      <td>193.04</td>\n",
       "      <td>243</td>\n",
       "      <td>77</td>\n",
       "    </tr>\n",
       "  </tbody>\n",
       "</table>\n",
       "</div>"
      ],
      "text/plain": [
       "                   name  height  weight  avg_rating\n",
       "5788   Kristof van Hout  208.28     243          61\n",
       "10092         Tim Wiese  193.04     243          77"
      ]
     },
     "execution_count": 64,
     "metadata": {},
     "output_type": "execute_result"
    }
   ],
   "source": [
    "height_and_weight[height_and_weight[\"weight\"] == height_and_weight['weight'].max()]"
   ]
  },
  {
   "cell_type": "markdown",
   "id": "ef3d03d1-3dbc-458a-98e3-9a1f061f1676",
   "metadata": {
    "tags": []
   },
   "source": [
    "Heaviest players were Tim Wiese and Kristof van Hout at 243lbs each"
   ]
  },
  {
   "cell_type": "code",
   "execution_count": 68,
   "id": "b533fb24-a510-4410-811c-9627cb1c6d2f",
   "metadata": {},
   "outputs": [
    {
     "data": {
      "text/html": [
       "<div>\n",
       "<style scoped>\n",
       "    .dataframe tbody tr th:only-of-type {\n",
       "        vertical-align: middle;\n",
       "    }\n",
       "\n",
       "    .dataframe tbody tr th {\n",
       "        vertical-align: top;\n",
       "    }\n",
       "\n",
       "    .dataframe thead th {\n",
       "        text-align: right;\n",
       "    }\n",
       "</style>\n",
       "<table border=\"1\" class=\"dataframe\">\n",
       "  <thead>\n",
       "    <tr style=\"text-align: right;\">\n",
       "      <th></th>\n",
       "      <th>name</th>\n",
       "      <th>height</th>\n",
       "      <th>weight</th>\n",
       "      <th>avg_rating</th>\n",
       "    </tr>\n",
       "  </thead>\n",
       "  <tbody>\n",
       "    <tr>\n",
       "      <th>5345</th>\n",
       "      <td>Juan Quero</td>\n",
       "      <td>157.48</td>\n",
       "      <td>117</td>\n",
       "      <td>66</td>\n",
       "    </tr>\n",
       "  </tbody>\n",
       "</table>\n",
       "</div>"
      ],
      "text/plain": [
       "            name  height  weight  avg_rating\n",
       "5345  Juan Quero  157.48     117          66"
      ]
     },
     "execution_count": 68,
     "metadata": {},
     "output_type": "execute_result"
    }
   ],
   "source": [
    "height_and_weight[height_and_weight[\"height\"] == height_and_weight['height'].min()]"
   ]
  },
  {
   "cell_type": "markdown",
   "id": "bd2ef860-1021-4881-96ac-4bd02a46adaa",
   "metadata": {},
   "source": [
    "Shortest player is Juan Quero at 157.48cm"
   ]
  },
  {
   "cell_type": "code",
   "execution_count": 69,
   "id": "4dd27c54-6d07-4df3-8312-f5b8a65bc197",
   "metadata": {},
   "outputs": [
    {
     "data": {
      "text/html": [
       "<div>\n",
       "<style scoped>\n",
       "    .dataframe tbody tr th:only-of-type {\n",
       "        vertical-align: middle;\n",
       "    }\n",
       "\n",
       "    .dataframe tbody tr th {\n",
       "        vertical-align: top;\n",
       "    }\n",
       "\n",
       "    .dataframe thead th {\n",
       "        text-align: right;\n",
       "    }\n",
       "</style>\n",
       "<table border=\"1\" class=\"dataframe\">\n",
       "  <thead>\n",
       "    <tr style=\"text-align: right;\">\n",
       "      <th></th>\n",
       "      <th>name</th>\n",
       "      <th>height</th>\n",
       "      <th>weight</th>\n",
       "      <th>avg_rating</th>\n",
       "    </tr>\n",
       "  </thead>\n",
       "  <tbody>\n",
       "    <tr>\n",
       "      <th>5345</th>\n",
       "      <td>Juan Quero</td>\n",
       "      <td>157.48</td>\n",
       "      <td>117</td>\n",
       "      <td>66</td>\n",
       "    </tr>\n",
       "  </tbody>\n",
       "</table>\n",
       "</div>"
      ],
      "text/plain": [
       "            name  height  weight  avg_rating\n",
       "5345  Juan Quero  157.48     117          66"
      ]
     },
     "execution_count": 69,
     "metadata": {},
     "output_type": "execute_result"
    }
   ],
   "source": [
    "height_and_weight[height_and_weight[\"weight\"] == height_and_weight['weight'].min()]"
   ]
  },
  {
   "cell_type": "markdown",
   "id": "a4a48c3c-cba8-45d2-89da-504c27d5919b",
   "metadata": {},
   "source": [
    "Juan Quero is also the lightest player in terms of weight at 117lbs"
   ]
  },
  {
   "cell_type": "code",
   "execution_count": 75,
   "id": "4f1c7e23-4131-4502-b370-df85f12ba39c",
   "metadata": {},
   "outputs": [
    {
     "data": {
      "image/png": "[encoded data removed]",
      "text/plain": [
       "<Figure size 432x288 with 2 Axes>"
      ]
     },
     "metadata": {
      "needs_background": "light"
     },
     "output_type": "display_data"
    }
   ],
   "source": [
    "sns.heatmap(height_and_weight.corr(), cmap='viridis_r',annot=True);"
   ]
  },
  {
   "cell_type": "markdown",
   "id": "3c34ad47-2740-43aa-8351-ccc3d4e23739",
   "metadata": {},
   "source": [
    "There's a pretty high correlation between height and weight of European players. However, neither height nor weight seems to directly affect player's ratings."
   ]
  }
 ],
 "metadata": {
  "kernelspec": {
   "display_name": "Python 3 (ipykernel)",
   "language": "python",
   "name": "python3"
  },
  "language_info": {
   "codemirror_mode": {
    "name": "ipython",
    "version": 3
   },
   "file_extension": ".py",
   "mimetype": "text/x-python",
   "name": "python",
   "nbconvert_exporter": "python",
   "pygments_lexer": "ipython3",
   "version": "3.9.12"
  }
 },
 "nbformat": 4,
 "nbformat_minor": 5
}
